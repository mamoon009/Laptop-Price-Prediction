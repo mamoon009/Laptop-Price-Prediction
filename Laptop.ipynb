{
  "nbformat": 4,
  "nbformat_minor": 0,
  "metadata": {
    "colab": {
      "provenance": []
    },
    "kernelspec": {
      "name": "python3",
      "display_name": "Python 3"
    },
    "language_info": {
      "name": "python"
    }
  },
  "cells": [
    {
      "cell_type": "code",
      "execution_count": 4,
      "metadata": {
        "id": "jiJoEuVKKrea",
        "colab": {
          "base_uri": "https://localhost:8080/"
        },
        "outputId": "03480f01-2a1b-4bf0-db1c-e9f5f79c9420"
      },
      "outputs": [
        {
          "output_type": "stream",
          "name": "stdout",
          "text": [
            "Mean Absolute Error: 14654.808597298977\n",
            "Mean Squared Error: 576410115.150529\n",
            "Root Mean Squared Error: 24008.54254532184\n"
          ]
        }
      ],
      "source": [
        "import pandas as pd\n",
        "from sklearn.model_selection import train_test_split\n",
        "from sklearn.linear_model import LinearRegression\n",
        "from sklearn.metrics import mean_absolute_error, mean_squared_error\n",
        "\n",
        "# Load the dataset\n",
        "data = pd.read_csv('laptopPrice.csv')\n",
        "\n",
        "# Convert categorical variables to dummy/indicator variables\n",
        "data_encoded = pd.get_dummies(data)\n",
        "\n",
        "# Prepare the data\n",
        "X = data_encoded.drop('Price', axis=1)  # Features (independent variables)\n",
        "y = data_encoded['Price']  # Target variable (dependent variable)\n",
        "\n",
        "# Split the dataset into training and testing sets\n",
        "X_train, X_test, y_train, y_test = train_test_split(X, y, test_size=0.2, random_state=42)\n",
        "\n",
        "# Define and train the model\n",
        "model = LinearRegression()\n",
        "model.fit(X_train, y_train)\n",
        "\n",
        "# Make predictions\n",
        "y_pred = model.predict(X_test)\n",
        "\n",
        "# Evaluate the model\n",
        "mae = mean_absolute_error(y_test, y_pred)\n",
        "mse = mean_squared_error(y_test, y_pred)\n",
        "rmse = mse ** 0.5\n",
        "\n",
        "print(f\"Mean Absolute Error: {mae}\")\n",
        "print(f\"Mean Squared Error: {mse}\")\n",
        "print(f\"Root Mean Squared Error: {rmse}\")"
      ]
    },
    {
      "cell_type": "code",
      "source": [],
      "metadata": {
        "id": "IDN31tiWU4rE"
      },
      "execution_count": null,
      "outputs": []
    }
  ]
}